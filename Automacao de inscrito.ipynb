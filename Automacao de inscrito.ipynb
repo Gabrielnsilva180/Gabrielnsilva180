{
 "cells": [
  {
   "cell_type": "code",
   "execution_count": 27,
   "id": "88668ddc",
   "metadata": {},
   "outputs": [],
   "source": [
    "import pyscreenshot \n",
    "from selenium import webdriver\n",
    "navegador = webdriver.Chrome()\n",
    "navegador.get (\"https://www.youtube.com/c/D1JornadasDigitais\") \n",
    "navegador.get(\"https://www.youtube.com/c/D1JornadasDigitais/about\")\n",
    "image = pyscreenshot.grab () \n",
    "image.show() \n",
    "image.save(\"Numerodeinscrito.png\") \n",
    "screenshot = navegador.save_screenshot('Numerodeinscrito.png')"
   ]
  },
  {
   "cell_type": "code",
   "execution_count": null,
   "id": "a8cf5953",
   "metadata": {},
   "outputs": [],
   "source": []
  },
  {
   "cell_type": "code",
   "execution_count": null,
   "id": "20ad797c",
   "metadata": {},
   "outputs": [],
   "source": []
  },
  {
   "cell_type": "code",
   "execution_count": null,
   "id": "b736423d",
   "metadata": {},
   "outputs": [],
   "source": []
  }
 ],
 "metadata": {
  "kernelspec": {
   "display_name": "Python 3 (ipykernel)",
   "language": "python",
   "name": "python3"
  },
  "language_info": {
   "codemirror_mode": {
    "name": "ipython",
    "version": 3
   },
   "file_extension": ".py",
   "mimetype": "text/x-python",
   "name": "python",
   "nbconvert_exporter": "python",
   "pygments_lexer": "ipython3",
   "version": "3.9.7"
  }
 },
 "nbformat": 4,
 "nbformat_minor": 5
}
